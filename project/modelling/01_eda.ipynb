{
 "cells": [
  {
   "attachments": {},
   "cell_type": "markdown",
   "metadata": {},
   "source": [
    "# EDA & Feature Engineering"
   ]
  },
  {
   "attachments": {},
   "cell_type": "markdown",
   "metadata": {},
   "source": [
    "## Imports"
   ]
  },
  {
   "cell_type": "code",
   "execution_count": 382,
   "metadata": {},
   "outputs": [],
   "source": [
    "import warnings\n",
    "import pandas as pd\n",
    "import numpy as np\n",
    "import seaborn as sns\n",
    "from typing import Callable\n",
    "from pandas import DataFrame, Series\n",
    "\n",
    "\n",
    "sns.set(rc={\"figure.figsize\": (10, 6), \"axes.titlesize\": 20, \"axes.titleweight\": \"bold\", \"axes.labelsize\": 15})\n",
    "sns.set_palette(\"Set2\")\n",
    "\n",
    "warnings.filterwarnings('ignore')"
   ]
  },
  {
   "attachments": {},
   "cell_type": "markdown",
   "metadata": {},
   "source": [
    "## Data Overview"
   ]
  },
  {
   "cell_type": "code",
   "execution_count": 383,
   "metadata": {},
   "outputs": [],
   "source": [
    "CATEGORY = \"category\"\n",
    "STATE = \"state\"\n",
    "PRICE = \"price\"\n",
    "LIVING_SPACE = \"living_space\"\n",
    "ROOMS = \"rooms\"\n",
    "RATING_LOCATION = \"rating_location\"\n",
    "RATING_PUBLIC_TRANSPORT = \"rating_public_transport\"\n",
    "HOUSE_CATEGORY = \"house_category\"\n",
    "HOUSE_YEAR = \"house_build_year\"\n",
    "HOUSING_SITUATION = \"housing_situation\"\n",
    "IS_BALCONY = \"is_balcony\"\n",
    "IS_BATH = \"is_bath\"\n",
    "PARKING = \"parking_space\"\n",
    "IS_ELEVATOR = \"is_elevator\"\n",
    "IS_GUEST_WC = \"is_guest_wc\"\n",
    "IS_GARDEN = \"is_garden\"\n",
    "IS_TERRACE = \"is_terrace\"\n",
    "IS_WINTER_GARDEN = \"is_wintergarden\"\n",
    "IS_BATH_WITH_WINDOW = \"is_bath_with_window\"\n",
    "IS_NEED_RENOVATION = \"is_need_renovation\"\n",
    "IS_NEW_BUILDING = \"is_new_building\"\n",
    "ENERGY_HEATING_TYPE = \"energy_heating_type\"\n",
    "ENERGY_SOURCE = \"energy_source\"\n",
    "ENERGY_CERTIFICATE_TYPE = \"energy_certificate_type\"\n",
    "ENERGY_BUILDING_TYPE = \"energy_building_type\"\n",
    "ENERGY_ESSENTIAL_TYPE = \"energy_essential_type\"\n",
    "ENERGY_EFFICIENT_CLASS = \"energy_efficient_class\""
   ]
  },
  {
   "cell_type": "code",
   "execution_count": 384,
   "metadata": {},
   "outputs": [
    {
     "data": {
      "text/html": [
       "<div>\n",
       "<style scoped>\n",
       "    .dataframe tbody tr th:only-of-type {\n",
       "        vertical-align: middle;\n",
       "    }\n",
       "\n",
       "    .dataframe tbody tr th {\n",
       "        vertical-align: top;\n",
       "    }\n",
       "\n",
       "    .dataframe thead th {\n",
       "        text-align: right;\n",
       "    }\n",
       "</style>\n",
       "<table border=\"1\" class=\"dataframe\">\n",
       "  <thead>\n",
       "    <tr style=\"text-align: right;\">\n",
       "      <th></th>\n",
       "      <th>url</th>\n",
       "      <th>category</th>\n",
       "      <th>state</th>\n",
       "      <th>price</th>\n",
       "      <th>living_space</th>\n",
       "      <th>rooms</th>\n",
       "      <th>publisher</th>\n",
       "      <th>rating_location</th>\n",
       "      <th>rating_public_transport</th>\n",
       "      <th>house_category</th>\n",
       "      <th>...</th>\n",
       "      <th>is_garden</th>\n",
       "      <th>is_terrace</th>\n",
       "      <th>is_wintergarden</th>\n",
       "      <th>is_bath_with_window</th>\n",
       "      <th>is_need_renovation</th>\n",
       "      <th>is_new_building</th>\n",
       "      <th>parking_space</th>\n",
       "      <th>energy_source</th>\n",
       "      <th>energy_certificate_type</th>\n",
       "      <th>energy_efficient_class</th>\n",
       "    </tr>\n",
       "  </thead>\n",
       "  <tbody>\n",
       "    <tr>\n",
       "      <th>0</th>\n",
       "      <td>https://www.immowelt.de/expose/28xsk53</td>\n",
       "      <td>Apartment</td>\n",
       "      <td>bl-baden-wuerttemberg</td>\n",
       "      <td>320000.0</td>\n",
       "      <td>87.00</td>\n",
       "      <td>3.5</td>\n",
       "      <td>Public publisher</td>\n",
       "      <td>Gut</td>\n",
       "      <td>Okay</td>\n",
       "      <td>Not given</td>\n",
       "      <td>...</td>\n",
       "      <td>False</td>\n",
       "      <td>False</td>\n",
       "      <td>False</td>\n",
       "      <td>False</td>\n",
       "      <td>False</td>\n",
       "      <td>False</td>\n",
       "      <td>Keine Parkmöglichkeit</td>\n",
       "      <td>gas</td>\n",
       "      <td>verbrauchsausweis</td>\n",
       "      <td>h</td>\n",
       "    </tr>\n",
       "    <tr>\n",
       "      <th>1</th>\n",
       "      <td>https://www.immowelt.de/expose/27egy5v</td>\n",
       "      <td>Apartment</td>\n",
       "      <td>bl-baden-wuerttemberg</td>\n",
       "      <td>449500.0</td>\n",
       "      <td>79.00</td>\n",
       "      <td>2.5</td>\n",
       "      <td>Public publisher</td>\n",
       "      <td>Gut</td>\n",
       "      <td>Super</td>\n",
       "      <td>Not given</td>\n",
       "      <td>...</td>\n",
       "      <td>False</td>\n",
       "      <td>False</td>\n",
       "      <td>False</td>\n",
       "      <td>True</td>\n",
       "      <td>True</td>\n",
       "      <td>False</td>\n",
       "      <td>Keine Parkmöglichkeit</td>\n",
       "      <td>gas</td>\n",
       "      <td>verbrauchsausweis</td>\n",
       "      <td>NaN</td>\n",
       "    </tr>\n",
       "    <tr>\n",
       "      <th>2</th>\n",
       "      <td>https://www.immowelt.de/expose/27dc45u</td>\n",
       "      <td>Apartment</td>\n",
       "      <td>bl-baden-wuerttemberg</td>\n",
       "      <td>465000.0</td>\n",
       "      <td>53.99</td>\n",
       "      <td>2.0</td>\n",
       "      <td>Public publisher</td>\n",
       "      <td>Gut</td>\n",
       "      <td>Gut</td>\n",
       "      <td>terrassenwohnung</td>\n",
       "      <td>...</td>\n",
       "      <td>False</td>\n",
       "      <td>True</td>\n",
       "      <td>False</td>\n",
       "      <td>False</td>\n",
       "      <td>False</td>\n",
       "      <td>True</td>\n",
       "      <td>tiefgarage</td>\n",
       "      <td>gas</td>\n",
       "      <td>NaN</td>\n",
       "      <td>NaN</td>\n",
       "    </tr>\n",
       "    <tr>\n",
       "      <th>3</th>\n",
       "      <td>https://www.immowelt.de/expose/28b5m5a</td>\n",
       "      <td>Apartment</td>\n",
       "      <td>bl-baden-wuerttemberg</td>\n",
       "      <td>179000.0</td>\n",
       "      <td>58.35</td>\n",
       "      <td>2.0</td>\n",
       "      <td>Public publisher</td>\n",
       "      <td>Gut</td>\n",
       "      <td>Gut</td>\n",
       "      <td>Not given</td>\n",
       "      <td>...</td>\n",
       "      <td>False</td>\n",
       "      <td>False</td>\n",
       "      <td>False</td>\n",
       "      <td>False</td>\n",
       "      <td>False</td>\n",
       "      <td>False</td>\n",
       "      <td>Keine Parkmöglichkeit</td>\n",
       "      <td>öl</td>\n",
       "      <td>verbrauchsausweis</td>\n",
       "      <td>NaN</td>\n",
       "    </tr>\n",
       "    <tr>\n",
       "      <th>4</th>\n",
       "      <td>https://www.immowelt.de/expose/2zpe54x</td>\n",
       "      <td>Apartment</td>\n",
       "      <td>bl-baden-wuerttemberg</td>\n",
       "      <td>385000.0</td>\n",
       "      <td>NaN</td>\n",
       "      <td>4.0</td>\n",
       "      <td>Public publisher</td>\n",
       "      <td>Okay</td>\n",
       "      <td>Okay</td>\n",
       "      <td>Not given</td>\n",
       "      <td>...</td>\n",
       "      <td>False</td>\n",
       "      <td>False</td>\n",
       "      <td>False</td>\n",
       "      <td>False</td>\n",
       "      <td>False</td>\n",
       "      <td>False</td>\n",
       "      <td>Keine Parkmöglichkeit</td>\n",
       "      <td>other</td>\n",
       "      <td>NaN</td>\n",
       "      <td>NaN</td>\n",
       "    </tr>\n",
       "  </tbody>\n",
       "</table>\n",
       "<p>5 rows × 26 columns</p>\n",
       "</div>"
      ],
      "text/plain": [
       "                                      url   category                  state  \\\n",
       "0  https://www.immowelt.de/expose/28xsk53  Apartment  bl-baden-wuerttemberg   \n",
       "1  https://www.immowelt.de/expose/27egy5v  Apartment  bl-baden-wuerttemberg   \n",
       "2  https://www.immowelt.de/expose/27dc45u  Apartment  bl-baden-wuerttemberg   \n",
       "3  https://www.immowelt.de/expose/28b5m5a  Apartment  bl-baden-wuerttemberg   \n",
       "4  https://www.immowelt.de/expose/2zpe54x  Apartment  bl-baden-wuerttemberg   \n",
       "\n",
       "      price  living_space  rooms         publisher rating_location  \\\n",
       "0  320000.0         87.00    3.5  Public publisher             Gut   \n",
       "1  449500.0         79.00    2.5  Public publisher             Gut   \n",
       "2  465000.0         53.99    2.0  Public publisher             Gut   \n",
       "3  179000.0         58.35    2.0  Public publisher             Gut   \n",
       "4  385000.0           NaN    4.0  Public publisher            Okay   \n",
       "\n",
       "  rating_public_transport    house_category  ... is_garden  is_terrace  \\\n",
       "0                    Okay         Not given  ...     False       False   \n",
       "1                   Super         Not given  ...     False       False   \n",
       "2                     Gut  terrassenwohnung  ...     False        True   \n",
       "3                     Gut         Not given  ...     False       False   \n",
       "4                    Okay         Not given  ...     False       False   \n",
       "\n",
       "  is_wintergarden is_bath_with_window is_need_renovation is_new_building  \\\n",
       "0           False               False              False           False   \n",
       "1           False                True               True           False   \n",
       "2           False               False              False            True   \n",
       "3           False               False              False           False   \n",
       "4           False               False              False           False   \n",
       "\n",
       "           parking_space energy_source energy_certificate_type  \\\n",
       "0  Keine Parkmöglichkeit           gas       verbrauchsausweis   \n",
       "1  Keine Parkmöglichkeit           gas       verbrauchsausweis   \n",
       "2             tiefgarage           gas                     NaN   \n",
       "3  Keine Parkmöglichkeit            öl       verbrauchsausweis   \n",
       "4  Keine Parkmöglichkeit         other                     NaN   \n",
       "\n",
       "  energy_efficient_class  \n",
       "0                      h  \n",
       "1                    NaN  \n",
       "2                    NaN  \n",
       "3                    NaN  \n",
       "4                    NaN  \n",
       "\n",
       "[5 rows x 26 columns]"
      ]
     },
     "execution_count": 384,
     "metadata": {},
     "output_type": "execute_result"
    }
   ],
   "source": [
    "df = pd.read_csv(\"./data/cleaned_property_data.csv\", sep=\"|\").drop_duplicates()\n",
    "df.head()"
   ]
  },
  {
   "cell_type": "code",
   "execution_count": 385,
   "metadata": {},
   "outputs": [
    {
     "name": "stdout",
     "output_type": "stream",
     "text": [
      "<class 'pandas.core.frame.DataFrame'>\n",
      "Int64Index: 595 entries, 0 to 620\n",
      "Data columns (total 26 columns):\n",
      " #   Column                   Non-Null Count  Dtype  \n",
      "---  ------                   --------------  -----  \n",
      " 0   url                      594 non-null    object \n",
      " 1   category                 594 non-null    object \n",
      " 2   state                    594 non-null    object \n",
      " 3   price                    594 non-null    float64\n",
      " 4   living_space             592 non-null    float64\n",
      " 5   rooms                    594 non-null    float64\n",
      " 6   publisher                594 non-null    object \n",
      " 7   rating_location          594 non-null    object \n",
      " 8   rating_public_transport  594 non-null    object \n",
      " 9   house_category           595 non-null    object \n",
      " 10  housing_situation        595 non-null    object \n",
      " 11  house_build_year         262 non-null    float64\n",
      " 12  is_balcony               594 non-null    object \n",
      " 13  is_bath                  594 non-null    object \n",
      " 14  is_elevator              594 non-null    object \n",
      " 15  is_guest_wc              594 non-null    object \n",
      " 16  is_garden                594 non-null    object \n",
      " 17  is_terrace               594 non-null    object \n",
      " 18  is_wintergarden          594 non-null    object \n",
      " 19  is_bath_with_window      594 non-null    object \n",
      " 20  is_need_renovation       594 non-null    object \n",
      " 21  is_new_building          594 non-null    object \n",
      " 22  parking_space            595 non-null    object \n",
      " 23  energy_source            595 non-null    object \n",
      " 24  energy_certificate_type  440 non-null    object \n",
      " 25  energy_efficient_class   370 non-null    object \n",
      "dtypes: float64(4), object(22)\n",
      "memory usage: 125.5+ KB\n"
     ]
    }
   ],
   "source": [
    "df.info()"
   ]
  },
  {
   "cell_type": "code",
   "execution_count": 386,
   "metadata": {},
   "outputs": [
    {
     "data": {
      "text/html": [
       "<div>\n",
       "<style scoped>\n",
       "    .dataframe tbody tr th:only-of-type {\n",
       "        vertical-align: middle;\n",
       "    }\n",
       "\n",
       "    .dataframe tbody tr th {\n",
       "        vertical-align: top;\n",
       "    }\n",
       "\n",
       "    .dataframe thead th {\n",
       "        text-align: right;\n",
       "    }\n",
       "</style>\n",
       "<table border=\"1\" class=\"dataframe\">\n",
       "  <thead>\n",
       "    <tr style=\"text-align: right;\">\n",
       "      <th></th>\n",
       "      <th>price</th>\n",
       "      <th>living_space</th>\n",
       "      <th>rooms</th>\n",
       "      <th>house_build_year</th>\n",
       "    </tr>\n",
       "  </thead>\n",
       "  <tbody>\n",
       "    <tr>\n",
       "      <th>count</th>\n",
       "      <td>5.940000e+02</td>\n",
       "      <td>592.000000</td>\n",
       "      <td>594.000000</td>\n",
       "      <td>262.000000</td>\n",
       "    </tr>\n",
       "    <tr>\n",
       "      <th>mean</th>\n",
       "      <td>5.381570e+05</td>\n",
       "      <td>128.544414</td>\n",
       "      <td>4.629630</td>\n",
       "      <td>1961.683206</td>\n",
       "    </tr>\n",
       "    <tr>\n",
       "      <th>std</th>\n",
       "      <td>8.158131e+05</td>\n",
       "      <td>93.985204</td>\n",
       "      <td>4.246319</td>\n",
       "      <td>55.135733</td>\n",
       "    </tr>\n",
       "    <tr>\n",
       "      <th>min</th>\n",
       "      <td>2.990000e+04</td>\n",
       "      <td>2.173000</td>\n",
       "      <td>1.000000</td>\n",
       "      <td>1579.000000</td>\n",
       "    </tr>\n",
       "    <tr>\n",
       "      <th>25%</th>\n",
       "      <td>1.990000e+05</td>\n",
       "      <td>71.000000</td>\n",
       "      <td>3.000000</td>\n",
       "      <td>1935.250000</td>\n",
       "    </tr>\n",
       "    <tr>\n",
       "      <th>50%</th>\n",
       "      <td>3.600000e+05</td>\n",
       "      <td>109.000000</td>\n",
       "      <td>4.000000</td>\n",
       "      <td>1970.500000</td>\n",
       "    </tr>\n",
       "    <tr>\n",
       "      <th>75%</th>\n",
       "      <td>5.880000e+05</td>\n",
       "      <td>150.000000</td>\n",
       "      <td>5.000000</td>\n",
       "      <td>1999.000000</td>\n",
       "    </tr>\n",
       "    <tr>\n",
       "      <th>max</th>\n",
       "      <td>1.090000e+07</td>\n",
       "      <td>844.000000</td>\n",
       "      <td>60.000000</td>\n",
       "      <td>2024.000000</td>\n",
       "    </tr>\n",
       "  </tbody>\n",
       "</table>\n",
       "</div>"
      ],
      "text/plain": [
       "              price  living_space       rooms  house_build_year\n",
       "count  5.940000e+02    592.000000  594.000000        262.000000\n",
       "mean   5.381570e+05    128.544414    4.629630       1961.683206\n",
       "std    8.158131e+05     93.985204    4.246319         55.135733\n",
       "min    2.990000e+04      2.173000    1.000000       1579.000000\n",
       "25%    1.990000e+05     71.000000    3.000000       1935.250000\n",
       "50%    3.600000e+05    109.000000    4.000000       1970.500000\n",
       "75%    5.880000e+05    150.000000    5.000000       1999.000000\n",
       "max    1.090000e+07    844.000000   60.000000       2024.000000"
      ]
     },
     "execution_count": 386,
     "metadata": {},
     "output_type": "execute_result"
    }
   ],
   "source": [
    "df.describe()"
   ]
  },
  {
   "cell_type": "code",
   "execution_count": 387,
   "metadata": {},
   "outputs": [
    {
     "data": {
      "text/html": [
       "<div>\n",
       "<style scoped>\n",
       "    .dataframe tbody tr th:only-of-type {\n",
       "        vertical-align: middle;\n",
       "    }\n",
       "\n",
       "    .dataframe tbody tr th {\n",
       "        vertical-align: top;\n",
       "    }\n",
       "\n",
       "    .dataframe thead th {\n",
       "        text-align: right;\n",
       "    }\n",
       "</style>\n",
       "<table border=\"1\" class=\"dataframe\">\n",
       "  <thead>\n",
       "    <tr style=\"text-align: right;\">\n",
       "      <th></th>\n",
       "      <th>count</th>\n",
       "      <th>unique</th>\n",
       "      <th>top</th>\n",
       "      <th>freq</th>\n",
       "    </tr>\n",
       "  </thead>\n",
       "  <tbody>\n",
       "    <tr>\n",
       "      <th>url</th>\n",
       "      <td>594</td>\n",
       "      <td>594</td>\n",
       "      <td>https://www.immowelt.de/expose/28xsk53</td>\n",
       "      <td>1</td>\n",
       "    </tr>\n",
       "    <tr>\n",
       "      <th>category</th>\n",
       "      <td>594</td>\n",
       "      <td>2</td>\n",
       "      <td>Apartment</td>\n",
       "      <td>318</td>\n",
       "    </tr>\n",
       "    <tr>\n",
       "      <th>state</th>\n",
       "      <td>594</td>\n",
       "      <td>16</td>\n",
       "      <td>bl-berlin</td>\n",
       "      <td>40</td>\n",
       "    </tr>\n",
       "    <tr>\n",
       "      <th>publisher</th>\n",
       "      <td>594</td>\n",
       "      <td>2</td>\n",
       "      <td>Public publisher</td>\n",
       "      <td>561</td>\n",
       "    </tr>\n",
       "    <tr>\n",
       "      <th>rating_location</th>\n",
       "      <td>594</td>\n",
       "      <td>5</td>\n",
       "      <td>Gut</td>\n",
       "      <td>285</td>\n",
       "    </tr>\n",
       "    <tr>\n",
       "      <th>rating_public_transport</th>\n",
       "      <td>594</td>\n",
       "      <td>5</td>\n",
       "      <td>Gut</td>\n",
       "      <td>163</td>\n",
       "    </tr>\n",
       "    <tr>\n",
       "      <th>house_category</th>\n",
       "      <td>595</td>\n",
       "      <td>15</td>\n",
       "      <td>Not given</td>\n",
       "      <td>272</td>\n",
       "    </tr>\n",
       "    <tr>\n",
       "      <th>housing_situation</th>\n",
       "      <td>595</td>\n",
       "      <td>3</td>\n",
       "      <td>Other</td>\n",
       "      <td>491</td>\n",
       "    </tr>\n",
       "    <tr>\n",
       "      <th>is_balcony</th>\n",
       "      <td>594</td>\n",
       "      <td>2</td>\n",
       "      <td>False</td>\n",
       "      <td>383</td>\n",
       "    </tr>\n",
       "    <tr>\n",
       "      <th>is_bath</th>\n",
       "      <td>594</td>\n",
       "      <td>2</td>\n",
       "      <td>False</td>\n",
       "      <td>356</td>\n",
       "    </tr>\n",
       "    <tr>\n",
       "      <th>is_elevator</th>\n",
       "      <td>594</td>\n",
       "      <td>2</td>\n",
       "      <td>False</td>\n",
       "      <td>487</td>\n",
       "    </tr>\n",
       "    <tr>\n",
       "      <th>is_guest_wc</th>\n",
       "      <td>594</td>\n",
       "      <td>2</td>\n",
       "      <td>False</td>\n",
       "      <td>422</td>\n",
       "    </tr>\n",
       "    <tr>\n",
       "      <th>is_garden</th>\n",
       "      <td>594</td>\n",
       "      <td>2</td>\n",
       "      <td>False</td>\n",
       "      <td>405</td>\n",
       "    </tr>\n",
       "    <tr>\n",
       "      <th>is_terrace</th>\n",
       "      <td>594</td>\n",
       "      <td>2</td>\n",
       "      <td>False</td>\n",
       "      <td>358</td>\n",
       "    </tr>\n",
       "    <tr>\n",
       "      <th>is_wintergarden</th>\n",
       "      <td>594</td>\n",
       "      <td>2</td>\n",
       "      <td>False</td>\n",
       "      <td>576</td>\n",
       "    </tr>\n",
       "    <tr>\n",
       "      <th>is_bath_with_window</th>\n",
       "      <td>594</td>\n",
       "      <td>2</td>\n",
       "      <td>False</td>\n",
       "      <td>416</td>\n",
       "    </tr>\n",
       "    <tr>\n",
       "      <th>is_need_renovation</th>\n",
       "      <td>594</td>\n",
       "      <td>2</td>\n",
       "      <td>False</td>\n",
       "      <td>567</td>\n",
       "    </tr>\n",
       "    <tr>\n",
       "      <th>is_new_building</th>\n",
       "      <td>594</td>\n",
       "      <td>2</td>\n",
       "      <td>False</td>\n",
       "      <td>536</td>\n",
       "    </tr>\n",
       "    <tr>\n",
       "      <th>parking_space</th>\n",
       "      <td>595</td>\n",
       "      <td>8</td>\n",
       "      <td>Keine Parkmöglichkeit</td>\n",
       "      <td>490</td>\n",
       "    </tr>\n",
       "    <tr>\n",
       "      <th>energy_source</th>\n",
       "      <td>595</td>\n",
       "      <td>4</td>\n",
       "      <td>gas</td>\n",
       "      <td>304</td>\n",
       "    </tr>\n",
       "    <tr>\n",
       "      <th>energy_certificate_type</th>\n",
       "      <td>440</td>\n",
       "      <td>2</td>\n",
       "      <td>verbrauchsausweis</td>\n",
       "      <td>235</td>\n",
       "    </tr>\n",
       "    <tr>\n",
       "      <th>energy_efficient_class</th>\n",
       "      <td>370</td>\n",
       "      <td>9</td>\n",
       "      <td>d</td>\n",
       "      <td>85</td>\n",
       "    </tr>\n",
       "  </tbody>\n",
       "</table>\n",
       "</div>"
      ],
      "text/plain": [
       "                        count unique                                     top  \\\n",
       "url                       594    594  https://www.immowelt.de/expose/28xsk53   \n",
       "category                  594      2                               Apartment   \n",
       "state                     594     16                               bl-berlin   \n",
       "publisher                 594      2                        Public publisher   \n",
       "rating_location           594      5                                     Gut   \n",
       "rating_public_transport   594      5                                     Gut   \n",
       "house_category            595     15                               Not given   \n",
       "housing_situation         595      3                                   Other   \n",
       "is_balcony                594      2                                   False   \n",
       "is_bath                   594      2                                   False   \n",
       "is_elevator               594      2                                   False   \n",
       "is_guest_wc               594      2                                   False   \n",
       "is_garden                 594      2                                   False   \n",
       "is_terrace                594      2                                   False   \n",
       "is_wintergarden           594      2                                   False   \n",
       "is_bath_with_window       594      2                                   False   \n",
       "is_need_renovation        594      2                                   False   \n",
       "is_new_building           594      2                                   False   \n",
       "parking_space             595      8                   Keine Parkmöglichkeit   \n",
       "energy_source             595      4                                     gas   \n",
       "energy_certificate_type   440      2                       verbrauchsausweis   \n",
       "energy_efficient_class    370      9                                       d   \n",
       "\n",
       "                        freq  \n",
       "url                        1  \n",
       "category                 318  \n",
       "state                     40  \n",
       "publisher                561  \n",
       "rating_location          285  \n",
       "rating_public_transport  163  \n",
       "house_category           272  \n",
       "housing_situation        491  \n",
       "is_balcony               383  \n",
       "is_bath                  356  \n",
       "is_elevator              487  \n",
       "is_guest_wc              422  \n",
       "is_garden                405  \n",
       "is_terrace               358  \n",
       "is_wintergarden          576  \n",
       "is_bath_with_window      416  \n",
       "is_need_renovation       567  \n",
       "is_new_building          536  \n",
       "parking_space            490  \n",
       "energy_source            304  \n",
       "energy_certificate_type  235  \n",
       "energy_efficient_class    85  "
      ]
     },
     "execution_count": 387,
     "metadata": {},
     "output_type": "execute_result"
    }
   ],
   "source": [
    "df.describe(include=[\"O\"]).T"
   ]
  },
  {
   "cell_type": "code",
   "execution_count": 388,
   "metadata": {},
   "outputs": [
    {
     "data": {
      "text/html": [
       "<div>\n",
       "<style scoped>\n",
       "    .dataframe tbody tr th:only-of-type {\n",
       "        vertical-align: middle;\n",
       "    }\n",
       "\n",
       "    .dataframe tbody tr th {\n",
       "        vertical-align: top;\n",
       "    }\n",
       "\n",
       "    .dataframe thead th {\n",
       "        text-align: right;\n",
       "    }\n",
       "</style>\n",
       "<table border=\"1\" class=\"dataframe\">\n",
       "  <thead>\n",
       "    <tr style=\"text-align: right;\">\n",
       "      <th></th>\n",
       "      <th>count</th>\n",
       "      <th>unique</th>\n",
       "      <th>top</th>\n",
       "      <th>freq</th>\n",
       "    </tr>\n",
       "  </thead>\n",
       "  <tbody>\n",
       "    <tr>\n",
       "      <th>url</th>\n",
       "      <td>594</td>\n",
       "      <td>594</td>\n",
       "      <td>https://www.immowelt.de/expose/28xsk53</td>\n",
       "      <td>1</td>\n",
       "    </tr>\n",
       "    <tr>\n",
       "      <th>category</th>\n",
       "      <td>594</td>\n",
       "      <td>2</td>\n",
       "      <td>Apartment</td>\n",
       "      <td>318</td>\n",
       "    </tr>\n",
       "    <tr>\n",
       "      <th>state</th>\n",
       "      <td>594</td>\n",
       "      <td>16</td>\n",
       "      <td>bl-berlin</td>\n",
       "      <td>40</td>\n",
       "    </tr>\n",
       "    <tr>\n",
       "      <th>publisher</th>\n",
       "      <td>594</td>\n",
       "      <td>2</td>\n",
       "      <td>Public publisher</td>\n",
       "      <td>561</td>\n",
       "    </tr>\n",
       "    <tr>\n",
       "      <th>rating_location</th>\n",
       "      <td>594</td>\n",
       "      <td>5</td>\n",
       "      <td>Gut</td>\n",
       "      <td>285</td>\n",
       "    </tr>\n",
       "    <tr>\n",
       "      <th>rating_public_transport</th>\n",
       "      <td>594</td>\n",
       "      <td>5</td>\n",
       "      <td>Gut</td>\n",
       "      <td>163</td>\n",
       "    </tr>\n",
       "    <tr>\n",
       "      <th>house_category</th>\n",
       "      <td>595</td>\n",
       "      <td>15</td>\n",
       "      <td>Not given</td>\n",
       "      <td>272</td>\n",
       "    </tr>\n",
       "    <tr>\n",
       "      <th>housing_situation</th>\n",
       "      <td>595</td>\n",
       "      <td>3</td>\n",
       "      <td>Other</td>\n",
       "      <td>491</td>\n",
       "    </tr>\n",
       "    <tr>\n",
       "      <th>parking_space</th>\n",
       "      <td>595</td>\n",
       "      <td>8</td>\n",
       "      <td>Keine Parkmöglichkeit</td>\n",
       "      <td>490</td>\n",
       "    </tr>\n",
       "    <tr>\n",
       "      <th>energy_source</th>\n",
       "      <td>595</td>\n",
       "      <td>4</td>\n",
       "      <td>gas</td>\n",
       "      <td>304</td>\n",
       "    </tr>\n",
       "    <tr>\n",
       "      <th>energy_certificate_type</th>\n",
       "      <td>440</td>\n",
       "      <td>2</td>\n",
       "      <td>verbrauchsausweis</td>\n",
       "      <td>235</td>\n",
       "    </tr>\n",
       "    <tr>\n",
       "      <th>energy_efficient_class</th>\n",
       "      <td>370</td>\n",
       "      <td>9</td>\n",
       "      <td>d</td>\n",
       "      <td>85</td>\n",
       "    </tr>\n",
       "  </tbody>\n",
       "</table>\n",
       "</div>"
      ],
      "text/plain": [
       "                        count unique                                     top  \\\n",
       "url                       594    594  https://www.immowelt.de/expose/28xsk53   \n",
       "category                  594      2                               Apartment   \n",
       "state                     594     16                               bl-berlin   \n",
       "publisher                 594      2                        Public publisher   \n",
       "rating_location           594      5                                     Gut   \n",
       "rating_public_transport   594      5                                     Gut   \n",
       "house_category            595     15                               Not given   \n",
       "housing_situation         595      3                                   Other   \n",
       "parking_space             595      8                   Keine Parkmöglichkeit   \n",
       "energy_source             595      4                                     gas   \n",
       "energy_certificate_type   440      2                       verbrauchsausweis   \n",
       "energy_efficient_class    370      9                                       d   \n",
       "\n",
       "                        freq  \n",
       "url                        1  \n",
       "category                 318  \n",
       "state                     40  \n",
       "publisher                561  \n",
       "rating_location          285  \n",
       "rating_public_transport  163  \n",
       "house_category           272  \n",
       "housing_situation        491  \n",
       "parking_space            490  \n",
       "energy_source            304  \n",
       "energy_certificate_type  235  \n",
       "energy_efficient_class    85  "
      ]
     },
     "execution_count": 388,
     "metadata": {},
     "output_type": "execute_result"
    }
   ],
   "source": [
    "to_float_cols = [\n",
    "    IS_BALCONY,\n",
    "    IS_BATH,\n",
    "    IS_ELEVATOR,\n",
    "    IS_GUEST_WC,\n",
    "    IS_GARDEN,\n",
    "    IS_TERRACE,\n",
    "    IS_WINTER_GARDEN,\n",
    "    IS_BATH_WITH_WINDOW,\n",
    "    IS_NEED_RENOVATION,\n",
    "    IS_NEW_BUILDING,\n",
    "]\n",
    "\n",
    "for col in to_float_cols:\n",
    "    df[col] = df[col].astype(bool)\n",
    "\n",
    "df.describe(include=[\"O\"]).T"
   ]
  },
  {
   "cell_type": "code",
   "execution_count": 389,
   "metadata": {},
   "outputs": [
    {
     "name": "stdout",
     "output_type": "stream",
     "text": [
      "<class 'pandas.core.frame.DataFrame'>\n",
      "Int64Index: 595 entries, 0 to 620\n",
      "Data columns (total 26 columns):\n",
      " #   Column                   Non-Null Count  Dtype  \n",
      "---  ------                   --------------  -----  \n",
      " 0   url                      594 non-null    object \n",
      " 1   category                 594 non-null    object \n",
      " 2   state                    594 non-null    object \n",
      " 3   price                    594 non-null    float64\n",
      " 4   living_space             592 non-null    float64\n",
      " 5   rooms                    594 non-null    float64\n",
      " 6   publisher                594 non-null    object \n",
      " 7   rating_location          594 non-null    object \n",
      " 8   rating_public_transport  594 non-null    object \n",
      " 9   house_category           595 non-null    object \n",
      " 10  housing_situation        595 non-null    object \n",
      " 11  house_build_year         262 non-null    float64\n",
      " 12  is_balcony               595 non-null    bool   \n",
      " 13  is_bath                  595 non-null    bool   \n",
      " 14  is_elevator              595 non-null    bool   \n",
      " 15  is_guest_wc              595 non-null    bool   \n",
      " 16  is_garden                595 non-null    bool   \n",
      " 17  is_terrace               595 non-null    bool   \n",
      " 18  is_wintergarden          595 non-null    bool   \n",
      " 19  is_bath_with_window      595 non-null    bool   \n",
      " 20  is_need_renovation       595 non-null    bool   \n",
      " 21  is_new_building          595 non-null    bool   \n",
      " 22  parking_space            595 non-null    object \n",
      " 23  energy_source            595 non-null    object \n",
      " 24  energy_certificate_type  440 non-null    object \n",
      " 25  energy_efficient_class   370 non-null    object \n",
      "dtypes: bool(10), float64(4), object(12)\n",
      "memory usage: 84.8+ KB\n"
     ]
    }
   ],
   "source": [
    "df.info()"
   ]
  },
  {
   "attachments": {},
   "cell_type": "markdown",
   "metadata": {},
   "source": [
    "## Helper Functions"
   ]
  },
  {
   "cell_type": "code",
   "execution_count": 390,
   "metadata": {},
   "outputs": [],
   "source": [
    "MEAN = np.mean\n",
    "MEDIAN = np.median\n",
    "\n",
    "def plot_target_relation(x: str, title: str, aggfunc: Callable = np.mean, rotate: float = 0.0):\n",
    "    ax = sns.pointplot(x=x, y=PRICE, data=df, estimator=aggfunc)\n",
    "    ax.set(title=title);\n",
    "    ax.tick_params(axis='x', rotation=rotate)\n",
    "    return df.pivot_table(index=x, values=PRICE, aggfunc=aggfunc)\n",
    "\n",
    "def describe_histplot(x: str, title: str):\n",
    "    sns.histplot(x=x, data=df).set(title=title)\n",
    "    print(f\"Skew:\\t{df[x].skew()}\")\n",
    "    print(f\"median:\\t{df[x].median()}\")\n",
    "    return df[x].describe()\n",
    "\n",
    "def countplot_rotate(x: str, rotate: float = 0):\n",
    "    # TODO: Add title!\n",
    "    ax = sns.countplot(x=x, data=df)\n",
    "    ax.set(title=f\"Distribution of {x} records\")\n",
    "    ax.set_xticklabels(ax.get_xticklabels(), rotation = rotate)\n"
   ]
  },
  {
   "attachments": {},
   "cell_type": "markdown",
   "metadata": {},
   "source": [
    "## Target"
   ]
  },
  {
   "cell_type": "code",
   "execution_count": 391,
   "metadata": {},
   "outputs": [
    {
     "name": "stdout",
     "output_type": "stream",
     "text": [
      "Skew:\t6.998055479058362\n",
      "median:\t360000.0\n"
     ]
    },
    {
     "data": {
      "text/plain": [
       "count    5.940000e+02\n",
       "mean     5.381570e+05\n",
       "std      8.158131e+05\n",
       "min      2.990000e+04\n",
       "25%      1.990000e+05\n",
       "50%      3.600000e+05\n",
       "75%      5.880000e+05\n",
       "max      1.090000e+07\n",
       "Name: price, dtype: float64"
      ]
     },
     "execution_count": 391,
     "metadata": {},
     "output_type": "execute_result"
    },
    {
     "data": {
      "image/png": "[encoded data removed]",
      "text/plain": [
       "<Figure size 720x432 with 1 Axes>"
      ]
     },
     "metadata": {},
     "output_type": "display_data"
    }
   ],
   "source": [
    "describe_histplot(x=PRICE, title=\"Target Distribution\")"
   ]
  },
  {
   "attachments": {},
   "cell_type": "markdown",
   "metadata": {},
   "source": [
    "## Category"
   ]
  },
  {
   "cell_type": "code",
   "execution_count": 392,
   "metadata": {},
   "outputs": [
    {
     "data": {
      "image/png": "[encoded data removed]",
      "text/plain": [
       "<Figure size 720x432 with 1 Axes>"
      ]
     },
     "metadata": {},
     "output_type": "display_data"
    }
   ],
   "source": [
    "sns.countplot(x=CATEGORY, data=df);"
   ]
  },
  {
   "cell_type": "code",
   "execution_count": 393,
   "metadata": {},
   "outputs": [
    {
     "data": {
      "text/plain": [
       "0      Apartment\n",
       "1      Apartment\n",
       "2      Apartment\n",
       "3      Apartment\n",
       "4      Apartment\n",
       "         ...    \n",
       "616        House\n",
       "617        House\n",
       "618        House\n",
       "619        House\n",
       "620        House\n",
       "Name: category, Length: 595, dtype: object"
      ]
     },
     "execution_count": 393,
     "metadata": {},
     "output_type": "execute_result"
    }
   ],
   "source": [
    "df[CATEGORY]"
   ]
  },
  {
   "cell_type": "code",
   "execution_count": 394,
   "metadata": {},
   "outputs": [
    {
     "data": {
      "text/html": [
       "<div>\n",
       "<style scoped>\n",
       "    .dataframe tbody tr th:only-of-type {\n",
       "        vertical-align: middle;\n",
       "    }\n",
       "\n",
       "    .dataframe tbody tr th {\n",
       "        vertical-align: top;\n",
       "    }\n",
       "\n",
       "    .dataframe thead th {\n",
       "        text-align: right;\n",
       "    }\n",
       "</style>\n",
       "<table border=\"1\" class=\"dataframe\">\n",
       "  <thead>\n",
       "    <tr style=\"text-align: right;\">\n",
       "      <th></th>\n",
       "      <th>price</th>\n",
       "    </tr>\n",
       "    <tr>\n",
       "      <th>category</th>\n",
       "      <th></th>\n",
       "    </tr>\n",
       "  </thead>\n",
       "  <tbody>\n",
       "    <tr>\n",
       "      <th>Apartment</th>\n",
       "      <td>368180.155660</td>\n",
       "    </tr>\n",
       "    <tr>\n",
       "      <th>House</th>\n",
       "      <td>733999.985507</td>\n",
       "    </tr>\n",
       "  </tbody>\n",
       "</table>\n",
       "</div>"
      ],
      "text/plain": [
       "                   price\n",
       "category                \n",
       "Apartment  368180.155660\n",
       "House      733999.985507"
      ]
     },
     "execution_count": 394,
     "metadata": {},
     "output_type": "execute_result"
    },
    {
     "data": {
      "image/png": "[encoded data removed]",
      "text/plain": [
       "<Figure size 720x432 with 1 Axes>"
      ]
     },
     "metadata": {},
     "output_type": "display_data"
    }
   ],
   "source": [
    "plot_target_relation(x=CATEGORY, title=\"Apartment-Prices vs. House-Prices (Mean)\", aggfunc=MEAN)"
   ]
  },
  {
   "cell_type": "code",
   "execution_count": 395,
   "metadata": {},
   "outputs": [
    {
     "data": {
      "text/html": [
       "<div>\n",
       "<style scoped>\n",
       "    .dataframe tbody tr th:only-of-type {\n",
       "        vertical-align: middle;\n",
       "    }\n",
       "\n",
       "    .dataframe tbody tr th {\n",
       "        vertical-align: top;\n",
       "    }\n",
       "\n",
       "    .dataframe thead th {\n",
       "        text-align: right;\n",
       "    }\n",
       "</style>\n",
       "<table border=\"1\" class=\"dataframe\">\n",
       "  <thead>\n",
       "    <tr style=\"text-align: right;\">\n",
       "      <th></th>\n",
       "      <th>price</th>\n",
       "    </tr>\n",
       "    <tr>\n",
       "      <th>category</th>\n",
       "      <th></th>\n",
       "    </tr>\n",
       "  </thead>\n",
       "  <tbody>\n",
       "    <tr>\n",
       "      <th>Apartment</th>\n",
       "      <td>259750.0</td>\n",
       "    </tr>\n",
       "    <tr>\n",
       "      <th>House</th>\n",
       "      <td>472000.0</td>\n",
       "    </tr>\n",
       "  </tbody>\n",
       "</table>\n",
       "</div>"
      ],
      "text/plain": [
       "              price\n",
       "category           \n",
       "Apartment  259750.0\n",
       "House      472000.0"
      ]
     },
     "execution_count": 395,
     "metadata": {},
     "output_type": "execute_result"
    },
    {
     "data": {
      "image/png": "[encoded data removed]",
      "text/plain": [
       "<Figure size 720x432 with 1 Axes>"
      ]
     },
     "metadata": {},
     "output_type": "display_data"
    }
   ],
   "source": [
    "plot_target_relation(x=CATEGORY, title=\"Apartment-Prices vs. House-Prices (median)\", aggfunc=MEDIAN)"
   ]
  },
  {
   "attachments": {},
   "cell_type": "markdown",
   "metadata": {},
   "source": [
    "- => Category has a strong impact on the target\n",
    "- => OneHotEncoding"
   ]
  },
  {
   "attachments": {},
   "cell_type": "markdown",
   "metadata": {},
   "source": [
    "## State"
   ]
  },
  {
   "cell_type": "code",
   "execution_count": 396,
   "metadata": {},
   "outputs": [
    {
     "data": {
      "image/png": "[encoded data removed]",
      "text/plain": [
       "<Figure size 720x432 with 1 Axes>"
      ]
     },
     "metadata": {},
     "output_type": "display_data"
    }
   ],
   "source": [
    "countplot_rotate(x=STATE, rotate=80)"
   ]
  },
  {
   "cell_type": "code",
   "execution_count": 397,
   "metadata": {},
   "outputs": [
    {
     "data": {
      "text/html": [
       "<div>\n",
       "<style scoped>\n",
       "    .dataframe tbody tr th:only-of-type {\n",
       "        vertical-align: middle;\n",
       "    }\n",
       "\n",
       "    .dataframe tbody tr th {\n",
       "        vertical-align: top;\n",
       "    }\n",
       "\n",
       "    .dataframe thead th {\n",
       "        text-align: right;\n",
       "    }\n",
       "</style>\n",
       "<table border=\"1\" class=\"dataframe\">\n",
       "  <thead>\n",
       "    <tr style=\"text-align: right;\">\n",
       "      <th></th>\n",
       "      <th>price</th>\n",
       "    </tr>\n",
       "    <tr>\n",
       "      <th>state</th>\n",
       "      <th></th>\n",
       "    </tr>\n",
       "  </thead>\n",
       "  <tbody>\n",
       "    <tr>\n",
       "      <th>bl-baden-wuerttemberg</th>\n",
       "      <td>5.216046e+05</td>\n",
       "    </tr>\n",
       "    <tr>\n",
       "      <th>bl-bayern</th>\n",
       "      <td>6.528350e+05</td>\n",
       "    </tr>\n",
       "    <tr>\n",
       "      <th>bl-berlin</th>\n",
       "      <td>1.213122e+06</td>\n",
       "    </tr>\n",
       "    <tr>\n",
       "      <th>bl-brandenburg</th>\n",
       "      <td>4.463956e+05</td>\n",
       "    </tr>\n",
       "    <tr>\n",
       "      <th>bl-bremen</th>\n",
       "      <td>4.288912e+05</td>\n",
       "    </tr>\n",
       "    <tr>\n",
       "      <th>bl-hamburg</th>\n",
       "      <td>1.440186e+06</td>\n",
       "    </tr>\n",
       "    <tr>\n",
       "      <th>bl-hessen</th>\n",
       "      <td>5.971667e+05</td>\n",
       "    </tr>\n",
       "    <tr>\n",
       "      <th>bl-mecklenburg-vorpommern</th>\n",
       "      <td>4.176571e+05</td>\n",
       "    </tr>\n",
       "    <tr>\n",
       "      <th>bl-niedersachsen</th>\n",
       "      <td>3.551974e+05</td>\n",
       "    </tr>\n",
       "    <tr>\n",
       "      <th>bl-nordrhein-westfalen</th>\n",
       "      <td>3.475568e+05</td>\n",
       "    </tr>\n",
       "    <tr>\n",
       "      <th>bl-rheinland-pfalz</th>\n",
       "      <td>3.592812e+05</td>\n",
       "    </tr>\n",
       "    <tr>\n",
       "      <th>bl-saarland</th>\n",
       "      <td>2.358652e+05</td>\n",
       "    </tr>\n",
       "    <tr>\n",
       "      <th>bl-sachsen</th>\n",
       "      <td>3.424695e+05</td>\n",
       "    </tr>\n",
       "    <tr>\n",
       "      <th>bl-sachsen-anhalt</th>\n",
       "      <td>2.300506e+05</td>\n",
       "    </tr>\n",
       "    <tr>\n",
       "      <th>bl-schleswig-holstein</th>\n",
       "      <td>4.564525e+05</td>\n",
       "    </tr>\n",
       "    <tr>\n",
       "      <th>bl-thueringen</th>\n",
       "      <td>3.264471e+05</td>\n",
       "    </tr>\n",
       "  </tbody>\n",
       "</table>\n",
       "</div>"
      ],
      "text/plain": [
       "                                  price\n",
       "state                                  \n",
       "bl-baden-wuerttemberg      5.216046e+05\n",
       "bl-bayern                  6.528350e+05\n",
       "bl-berlin                  1.213122e+06\n",
       "bl-brandenburg             4.463956e+05\n",
       "bl-bremen                  4.288912e+05\n",
       "bl-hamburg                 1.440186e+06\n",
       "bl-hessen                  5.971667e+05\n",
       "bl-mecklenburg-vorpommern  4.176571e+05\n",
       "bl-niedersachsen           3.551974e+05\n",
       "bl-nordrhein-westfalen     3.475568e+05\n",
       "bl-rheinland-pfalz         3.592812e+05\n",
       "bl-saarland                2.358652e+05\n",
       "bl-sachsen                 3.424695e+05\n",
       "bl-sachsen-anhalt          2.300506e+05\n",
       "bl-schleswig-holstein      4.564525e+05\n",
       "bl-thueringen              3.264471e+05"
      ]
     },
     "execution_count": 397,
     "metadata": {},
     "output_type": "execute_result"
    },
    {
     "data": {
      "image/png": "[encoded data removed]",
      "text/plain": [
       "<Figure size 720x432 with 1 Axes>"
      ]
     },
     "metadata": {},
     "output_type": "display_data"
    }
   ],
   "source": [
    "plot_target_relation(x=STATE, title=\"State-Prices (mean)\", aggfunc=MEAN, rotate=90)"
   ]
  },
  {
   "attachments": {},
   "cell_type": "markdown",
   "metadata": {},
   "source": [
    "- => the state has a significant impact on the target.\n",
    "- => OneHotEncoding"
   ]
  },
  {
   "attachments": {},
   "cell_type": "markdown",
   "metadata": {},
   "source": [
    "## Living Space"
   ]
  },
  {
   "cell_type": "code",
   "execution_count": 398,
   "metadata": {},
   "outputs": [
    {
     "data": {
      "text/plain": [
       "3"
      ]
     },
     "execution_count": 398,
     "metadata": {},
     "output_type": "execute_result"
    }
   ],
   "source": [
    "df[LIVING_SPACE].isna().sum()"
   ]
  },
  {
   "cell_type": "code",
   "execution_count": 399,
   "metadata": {},
   "outputs": [
    {
     "name": "stdout",
     "output_type": "stream",
     "text": [
      "Skew:\t3.0246364706465387\n",
      "median:\t109.0\n"
     ]
    },
    {
     "data": {
      "text/plain": [
       "count    592.000000\n",
       "mean     128.544414\n",
       "std       93.985204\n",
       "min        2.173000\n",
       "25%       71.000000\n",
       "50%      109.000000\n",
       "75%      150.000000\n",
       "max      844.000000\n",
       "Name: living_space, dtype: float64"
      ]
     },
     "execution_count": 399,
     "metadata": {},
     "output_type": "execute_result"
    },
    {
     "data": {
      "image/png": "[encoded data removed]",
      "text/plain": [
       "<Figure size 720x432 with 1 Axes>"
      ]
     },
     "metadata": {},
     "output_type": "display_data"
    }
   ],
   "source": [
    "describe_histplot(x=LIVING_SPACE, title=\"Living-Space Distribution\")"
   ]
  },
  {
   "cell_type": "code",
   "execution_count": 400,
   "metadata": {},
   "outputs": [
    {
     "data": {
      "image/png": "[encoded data removed]",
      "text/plain": [
       "<Figure size 720x432 with 1 Axes>"
      ]
     },
     "metadata": {},
     "output_type": "display_data"
    }
   ],
   "source": [
    "sns.regplot(x=LIVING_SPACE, y=PRICE, data=df);"
   ]
  },
  {
   "attachments": {},
   "cell_type": "markdown",
   "metadata": {},
   "source": [
    "- => Living-Space has a significant impact on the price\n",
    "- => High Skew -> Log-transformation\n",
    "- => Scale"
   ]
  },
  {
   "attachments": {},
   "cell_type": "markdown",
   "metadata": {},
   "source": [
    "## Rooms"
   ]
  },
  {
   "cell_type": "code",
   "execution_count": 401,
   "metadata": {},
   "outputs": [
    {
     "data": {
      "text/plain": [
       "1"
      ]
     },
     "execution_count": 401,
     "metadata": {},
     "output_type": "execute_result"
    }
   ],
   "source": [
    "df[ROOMS].isna().sum()"
   ]
  },
  {
   "cell_type": "code",
   "execution_count": 402,
   "metadata": {},
   "outputs": [
    {
     "data": {
      "image/png": "[encoded data removed]",
      "text/plain": [
       "<Figure size 720x432 with 1 Axes>"
      ]
     },
     "metadata": {},
     "output_type": "display_data"
    }
   ],
   "source": [
    "countplot_rotate(x=ROOMS, rotate=90)"
   ]
  },
  {
   "cell_type": "code",
   "execution_count": 403,
   "metadata": {},
   "outputs": [
    {
     "data": {
      "image/png": "[encoded data removed]",
      "text/plain": [
       "<Figure size 720x432 with 1 Axes>"
      ]
     },
     "metadata": {},
     "output_type": "display_data"
    }
   ],
   "source": [
    "plot_target_relation(x=ROOMS, title=\"fec\", rotate=90);"
   ]
  },
  {
   "cell_type": "code",
   "execution_count": 404,
   "metadata": {},
   "outputs": [],
   "source": [
    "# TODO: hier tiefer rein\n",
    "# -> 9.5 raus?\n",
    "# ab 24 nicht mehr nutzbar?"
   ]
  },
  {
   "cell_type": "code",
   "execution_count": 405,
   "metadata": {},
   "outputs": [
    {
     "data": {
      "text/html": [
       "<div>\n",
       "<style scoped>\n",
       "    .dataframe tbody tr th:only-of-type {\n",
       "        vertical-align: middle;\n",
       "    }\n",
       "\n",
       "    .dataframe tbody tr th {\n",
       "        vertical-align: top;\n",
       "    }\n",
       "\n",
       "    .dataframe thead th {\n",
       "        text-align: right;\n",
       "    }\n",
       "</style>\n",
       "<table border=\"1\" class=\"dataframe\">\n",
       "  <thead>\n",
       "    <tr style=\"text-align: right;\">\n",
       "      <th></th>\n",
       "      <th>url</th>\n",
       "      <th>category</th>\n",
       "      <th>state</th>\n",
       "      <th>price</th>\n",
       "      <th>living_space</th>\n",
       "      <th>rooms</th>\n",
       "      <th>publisher</th>\n",
       "      <th>rating_location</th>\n",
       "      <th>rating_public_transport</th>\n",
       "      <th>house_category</th>\n",
       "      <th>...</th>\n",
       "      <th>is_garden</th>\n",
       "      <th>is_terrace</th>\n",
       "      <th>is_wintergarden</th>\n",
       "      <th>is_bath_with_window</th>\n",
       "      <th>is_need_renovation</th>\n",
       "      <th>is_new_building</th>\n",
       "      <th>parking_space</th>\n",
       "      <th>energy_source</th>\n",
       "      <th>energy_certificate_type</th>\n",
       "      <th>energy_efficient_class</th>\n",
       "    </tr>\n",
       "  </thead>\n",
       "  <tbody>\n",
       "    <tr>\n",
       "      <th>113</th>\n",
       "      <td>https://www.immowelt.de/expose/27a225p</td>\n",
       "      <td>House</td>\n",
       "      <td>bl-berlin</td>\n",
       "      <td>7500000.0</td>\n",
       "      <td>524.46</td>\n",
       "      <td>9.5</td>\n",
       "      <td>Public publisher</td>\n",
       "      <td>Mäßig</td>\n",
       "      <td>Super</td>\n",
       "      <td>villa</td>\n",
       "      <td>...</td>\n",
       "      <td>True</td>\n",
       "      <td>True</td>\n",
       "      <td>False</td>\n",
       "      <td>False</td>\n",
       "      <td>False</td>\n",
       "      <td>True</td>\n",
       "      <td>Keine Parkmöglichkeit</td>\n",
       "      <td>gas</td>\n",
       "      <td>bedarfsausweis</td>\n",
       "      <td>d</td>\n",
       "    </tr>\n",
       "  </tbody>\n",
       "</table>\n",
       "<p>1 rows × 26 columns</p>\n",
       "</div>"
      ],
      "text/plain": [
       "                                        url category      state      price  \\\n",
       "113  https://www.immowelt.de/expose/27a225p    House  bl-berlin  7500000.0   \n",
       "\n",
       "     living_space  rooms         publisher rating_location  \\\n",
       "113        524.46    9.5  Public publisher           Mäßig   \n",
       "\n",
       "    rating_public_transport house_category  ... is_garden  is_terrace  \\\n",
       "113                   Super          villa  ...      True        True   \n",
       "\n",
       "     is_wintergarden  is_bath_with_window  is_need_renovation  \\\n",
       "113            False                False               False   \n",
       "\n",
       "     is_new_building          parking_space  energy_source  \\\n",
       "113             True  Keine Parkmöglichkeit            gas   \n",
       "\n",
       "     energy_certificate_type  energy_efficient_class  \n",
       "113           bedarfsausweis                       d  \n",
       "\n",
       "[1 rows x 26 columns]"
      ]
     },
     "execution_count": 405,
     "metadata": {},
     "output_type": "execute_result"
    }
   ],
   "source": [
    "df[df[ROOMS] == 9.5]"
   ]
  },
  {
   "cell_type": "markdown",
   "metadata": {},
   "source": [
    "The 9.5 is an outlier. We remove this"
   ]
  },
  {
   "cell_type": "code",
   "execution_count": 406,
   "metadata": {},
   "outputs": [
    {
     "name": "stdout",
     "output_type": "stream",
     "text": [
      "Removed: 1\n"
     ]
    }
   ],
   "source": [
    "shape_before = df.shape[0]\n",
    "df = df[df[ROOMS] != 9.5]\n",
    "shape_after = df.shape[0]\n",
    "print(f\"Removed: {shape_before - shape_after}\")"
   ]
  },
  {
   "cell_type": "code",
   "execution_count": 407,
   "metadata": {},
   "outputs": [
    {
     "data": {
      "text/html": [
       "<div>\n",
       "<style scoped>\n",
       "    .dataframe tbody tr th:only-of-type {\n",
       "        vertical-align: middle;\n",
       "    }\n",
       "\n",
       "    .dataframe tbody tr th {\n",
       "        vertical-align: top;\n",
       "    }\n",
       "\n",
       "    .dataframe thead th {\n",
       "        text-align: right;\n",
       "    }\n",
       "</style>\n",
       "<table border=\"1\" class=\"dataframe\">\n",
       "  <thead>\n",
       "    <tr style=\"text-align: right;\">\n",
       "      <th></th>\n",
       "      <th>url</th>\n",
       "      <th>category</th>\n",
       "      <th>state</th>\n",
       "      <th>price</th>\n",
       "      <th>living_space</th>\n",
       "      <th>rooms</th>\n",
       "      <th>publisher</th>\n",
       "      <th>rating_location</th>\n",
       "      <th>rating_public_transport</th>\n",
       "      <th>house_category</th>\n",
       "      <th>...</th>\n",
       "      <th>is_garden</th>\n",
       "      <th>is_terrace</th>\n",
       "      <th>is_wintergarden</th>\n",
       "      <th>is_bath_with_window</th>\n",
       "      <th>is_need_renovation</th>\n",
       "      <th>is_new_building</th>\n",
       "      <th>parking_space</th>\n",
       "      <th>energy_source</th>\n",
       "      <th>energy_certificate_type</th>\n",
       "      <th>energy_efficient_class</th>\n",
       "    </tr>\n",
       "  </thead>\n",
       "  <tbody>\n",
       "    <tr>\n",
       "      <th>99</th>\n",
       "      <td>https://www.immowelt.de/expose/28zn659</td>\n",
       "      <td>House</td>\n",
       "      <td>bl-berlin</td>\n",
       "      <td>7790000.0</td>\n",
       "      <td>780.000</td>\n",
       "      <td>30.0</td>\n",
       "      <td>Public publisher</td>\n",
       "      <td>Okay</td>\n",
       "      <td>Super</td>\n",
       "      <td>villa</td>\n",
       "      <td>...</td>\n",
       "      <td>False</td>\n",
       "      <td>False</td>\n",
       "      <td>False</td>\n",
       "      <td>False</td>\n",
       "      <td>False</td>\n",
       "      <td>False</td>\n",
       "      <td>Keine Parkmöglichkeit</td>\n",
       "      <td>other</td>\n",
       "      <td>NaN</td>\n",
       "      <td>NaN</td>\n",
       "    </tr>\n",
       "    <tr>\n",
       "      <th>155</th>\n",
       "      <td>https://www.immowelt.de/expose/27yfd5r</td>\n",
       "      <td>House</td>\n",
       "      <td>bl-brandenburg</td>\n",
       "      <td>3500000.0</td>\n",
       "      <td>844.000</td>\n",
       "      <td>48.0</td>\n",
       "      <td>Public publisher</td>\n",
       "      <td>Gut</td>\n",
       "      <td>Super</td>\n",
       "      <td>mehrfamilienhaus</td>\n",
       "      <td>...</td>\n",
       "      <td>False</td>\n",
       "      <td>False</td>\n",
       "      <td>False</td>\n",
       "      <td>False</td>\n",
       "      <td>False</td>\n",
       "      <td>False</td>\n",
       "      <td>Keine Parkmöglichkeit</td>\n",
       "      <td>gas</td>\n",
       "      <td>NaN</td>\n",
       "      <td>NaN</td>\n",
       "    </tr>\n",
       "    <tr>\n",
       "      <th>227</th>\n",
       "      <td>https://www.immowelt.de/expose/27dea5z</td>\n",
       "      <td>House</td>\n",
       "      <td>bl-hamburg</td>\n",
       "      <td>10900000.0</td>\n",
       "      <td>2.173</td>\n",
       "      <td>60.0</td>\n",
       "      <td>Public publisher</td>\n",
       "      <td>Super</td>\n",
       "      <td>Super</td>\n",
       "      <td>Not given</td>\n",
       "      <td>...</td>\n",
       "      <td>False</td>\n",
       "      <td>False</td>\n",
       "      <td>False</td>\n",
       "      <td>False</td>\n",
       "      <td>False</td>\n",
       "      <td>False</td>\n",
       "      <td>Keine Parkmöglichkeit</td>\n",
       "      <td>gas</td>\n",
       "      <td>bedarfsausweis</td>\n",
       "      <td>d</td>\n",
       "    </tr>\n",
       "    <tr>\n",
       "      <th>309</th>\n",
       "      <td>https://www.immowelt.de/expose/27n6y5z</td>\n",
       "      <td>House</td>\n",
       "      <td>bl-mecklenburg-vorpommern</td>\n",
       "      <td>1200000.0</td>\n",
       "      <td>745.000</td>\n",
       "      <td>30.0</td>\n",
       "      <td>Public publisher</td>\n",
       "      <td>Gut</td>\n",
       "      <td>Gut</td>\n",
       "      <td>mehrfamilienhaus</td>\n",
       "      <td>...</td>\n",
       "      <td>True</td>\n",
       "      <td>True</td>\n",
       "      <td>False</td>\n",
       "      <td>False</td>\n",
       "      <td>False</td>\n",
       "      <td>False</td>\n",
       "      <td>Keine Parkmöglichkeit</td>\n",
       "      <td>gas</td>\n",
       "      <td>verbrauchsausweis</td>\n",
       "      <td>e</td>\n",
       "    </tr>\n",
       "  </tbody>\n",
       "</table>\n",
       "<p>4 rows × 26 columns</p>\n",
       "</div>"
      ],
      "text/plain": [
       "                                        url category  \\\n",
       "99   https://www.immowelt.de/expose/28zn659    House   \n",
       "155  https://www.immowelt.de/expose/27yfd5r    House   \n",
       "227  https://www.immowelt.de/expose/27dea5z    House   \n",
       "309  https://www.immowelt.de/expose/27n6y5z    House   \n",
       "\n",
       "                         state       price  living_space  rooms  \\\n",
       "99                   bl-berlin   7790000.0       780.000   30.0   \n",
       "155             bl-brandenburg   3500000.0       844.000   48.0   \n",
       "227                 bl-hamburg  10900000.0         2.173   60.0   \n",
       "309  bl-mecklenburg-vorpommern   1200000.0       745.000   30.0   \n",
       "\n",
       "            publisher rating_location rating_public_transport  \\\n",
       "99   Public publisher            Okay                   Super   \n",
       "155  Public publisher             Gut                   Super   \n",
       "227  Public publisher           Super                   Super   \n",
       "309  Public publisher             Gut                     Gut   \n",
       "\n",
       "       house_category  ... is_garden  is_terrace  is_wintergarden  \\\n",
       "99              villa  ...     False       False            False   \n",
       "155  mehrfamilienhaus  ...     False       False            False   \n",
       "227         Not given  ...     False       False            False   \n",
       "309  mehrfamilienhaus  ...      True        True            False   \n",
       "\n",
       "     is_bath_with_window  is_need_renovation  is_new_building  \\\n",
       "99                 False               False            False   \n",
       "155                False               False            False   \n",
       "227                False               False            False   \n",
       "309                False               False            False   \n",
       "\n",
       "             parking_space  energy_source  energy_certificate_type  \\\n",
       "99   Keine Parkmöglichkeit          other                      NaN   \n",
       "155  Keine Parkmöglichkeit            gas                      NaN   \n",
       "227  Keine Parkmöglichkeit            gas           bedarfsausweis   \n",
       "309  Keine Parkmöglichkeit            gas        verbrauchsausweis   \n",
       "\n",
       "     energy_efficient_class  \n",
       "99                      NaN  \n",
       "155                     NaN  \n",
       "227                       d  \n",
       "309                       e  \n",
       "\n",
       "[4 rows x 26 columns]"
      ]
     },
     "execution_count": 407,
     "metadata": {},
     "output_type": "execute_result"
    }
   ],
   "source": [
    "df[df[ROOMS] > 25]"
   ]
  },
  {
   "cell_type": "markdown",
   "metadata": {},
   "source": [
    "- 227 has a living space of 2.173, but 60 rooms. Thats not possible or very specific => remove this\n",
    "- all over 25 rooms are to specific and we have not enough data so that the model can handle this\n",
    "- => remove all over 25 Rooms!"
   ]
  },
  {
   "cell_type": "code",
   "execution_count": 408,
   "metadata": {},
   "outputs": [
    {
     "data": {
      "image/png": "[encoded data removed]",
      "text/plain": [
       "<Figure size 720x432 with 1 Axes>"
      ]
     },
     "metadata": {},
     "output_type": "display_data"
    }
   ],
   "source": [
    "sns.regplot(x=ROOMS, y=LIVING_SPACE, data=df);"
   ]
  },
  {
   "cell_type": "code",
   "execution_count": 409,
   "metadata": {},
   "outputs": [
    {
     "data": {
      "text/plain": [
       "1"
      ]
     },
     "execution_count": 409,
     "metadata": {},
     "output_type": "execute_result"
    }
   ],
   "source": [
    "df[ROOMS].isna().sum()"
   ]
  },
  {
   "cell_type": "code",
   "execution_count": 410,
   "metadata": {},
   "outputs": [
    {
     "name": "stdout",
     "output_type": "stream",
     "text": [
      "Removed: 5 (incl. nan values)\n"
     ]
    }
   ],
   "source": [
    "shape_before = df.shape[0]\n",
    "df = df[df[ROOMS] <= 25]\n",
    "shape_after = df.shape[0]\n",
    "print(f\"Removed: {shape_before - shape_after} (incl. nan values)\")"
   ]
  },
  {
   "cell_type": "code",
   "execution_count": 411,
   "metadata": {},
   "outputs": [
    {
     "data": {
      "image/png": "[encoded data removed]",
      "text/plain": [
       "<Figure size 720x432 with 1 Axes>"
      ]
     },
     "metadata": {},
     "output_type": "display_data"
    }
   ],
   "source": [
    "sns.regplot(x=ROOMS, y=LIVING_SPACE, data=df);"
   ]
  },
  {
   "cell_type": "markdown",
   "metadata": {},
   "source": [
    "- => put together .5 and total\n",
    "- => Classify in useful Clusters\n",
    "- => OrdinalEncoding of the Clusters"
   ]
  },
  {
   "cell_type": "code",
   "execution_count": 412,
   "metadata": {},
   "outputs": [
    {
     "data": {
      "text/html": [
       "<div>\n",
       "<style scoped>\n",
       "    .dataframe tbody tr th:only-of-type {\n",
       "        vertical-align: middle;\n",
       "    }\n",
       "\n",
       "    .dataframe tbody tr th {\n",
       "        vertical-align: top;\n",
       "    }\n",
       "\n",
       "    .dataframe thead th {\n",
       "        text-align: right;\n",
       "    }\n",
       "</style>\n",
       "<table border=\"1\" class=\"dataframe\">\n",
       "  <thead>\n",
       "    <tr style=\"text-align: right;\">\n",
       "      <th></th>\n",
       "      <th>url</th>\n",
       "      <th>category</th>\n",
       "      <th>state</th>\n",
       "      <th>price</th>\n",
       "      <th>living_space</th>\n",
       "      <th>rooms</th>\n",
       "      <th>publisher</th>\n",
       "      <th>rating_location</th>\n",
       "      <th>rating_public_transport</th>\n",
       "      <th>house_category</th>\n",
       "      <th>...</th>\n",
       "      <th>is_garden</th>\n",
       "      <th>is_terrace</th>\n",
       "      <th>is_wintergarden</th>\n",
       "      <th>is_bath_with_window</th>\n",
       "      <th>is_need_renovation</th>\n",
       "      <th>is_new_building</th>\n",
       "      <th>parking_space</th>\n",
       "      <th>energy_source</th>\n",
       "      <th>energy_certificate_type</th>\n",
       "      <th>energy_efficient_class</th>\n",
       "    </tr>\n",
       "  </thead>\n",
       "  <tbody>\n",
       "    <tr>\n",
       "      <th>0</th>\n",
       "      <td>https://www.immowelt.de/expose/28xsk53</td>\n",
       "      <td>Apartment</td>\n",
       "      <td>bl-baden-wuerttemberg</td>\n",
       "      <td>320000.0</td>\n",
       "      <td>87.00</td>\n",
       "      <td>3.5</td>\n",
       "      <td>Public publisher</td>\n",
       "      <td>Gut</td>\n",
       "      <td>Okay</td>\n",
       "      <td>Not given</td>\n",
       "      <td>...</td>\n",
       "      <td>False</td>\n",
       "      <td>False</td>\n",
       "      <td>False</td>\n",
       "      <td>False</td>\n",
       "      <td>False</td>\n",
       "      <td>False</td>\n",
       "      <td>Keine Parkmöglichkeit</td>\n",
       "      <td>gas</td>\n",
       "      <td>verbrauchsausweis</td>\n",
       "      <td>h</td>\n",
       "    </tr>\n",
       "    <tr>\n",
       "      <th>1</th>\n",
       "      <td>https://www.immowelt.de/expose/27egy5v</td>\n",
       "      <td>Apartment</td>\n",
       "      <td>bl-baden-wuerttemberg</td>\n",
       "      <td>449500.0</td>\n",
       "      <td>79.00</td>\n",
       "      <td>2.5</td>\n",
       "      <td>Public publisher</td>\n",
       "      <td>Gut</td>\n",
       "      <td>Super</td>\n",
       "      <td>Not given</td>\n",
       "      <td>...</td>\n",
       "      <td>False</td>\n",
       "      <td>False</td>\n",
       "      <td>False</td>\n",
       "      <td>True</td>\n",
       "      <td>True</td>\n",
       "      <td>False</td>\n",
       "      <td>Keine Parkmöglichkeit</td>\n",
       "      <td>gas</td>\n",
       "      <td>verbrauchsausweis</td>\n",
       "      <td>NaN</td>\n",
       "    </tr>\n",
       "    <tr>\n",
       "      <th>2</th>\n",
       "      <td>https://www.immowelt.de/expose/27dc45u</td>\n",
       "      <td>Apartment</td>\n",
       "      <td>bl-baden-wuerttemberg</td>\n",
       "      <td>465000.0</td>\n",
       "      <td>53.99</td>\n",
       "      <td>2.0</td>\n",
       "      <td>Public publisher</td>\n",
       "      <td>Gut</td>\n",
       "      <td>Gut</td>\n",
       "      <td>terrassenwohnung</td>\n",
       "      <td>...</td>\n",
       "      <td>False</td>\n",
       "      <td>True</td>\n",
       "      <td>False</td>\n",
       "      <td>False</td>\n",
       "      <td>False</td>\n",
       "      <td>True</td>\n",
       "      <td>tiefgarage</td>\n",
       "      <td>gas</td>\n",
       "      <td>NaN</td>\n",
       "      <td>NaN</td>\n",
       "    </tr>\n",
       "    <tr>\n",
       "      <th>3</th>\n",
       "      <td>https://www.immowelt.de/expose/28b5m5a</td>\n",
       "      <td>Apartment</td>\n",
       "      <td>bl-baden-wuerttemberg</td>\n",
       "      <td>179000.0</td>\n",
       "      <td>58.35</td>\n",
       "      <td>2.0</td>\n",
       "      <td>Public publisher</td>\n",
       "      <td>Gut</td>\n",
       "      <td>Gut</td>\n",
       "      <td>Not given</td>\n",
       "      <td>...</td>\n",
       "      <td>False</td>\n",
       "      <td>False</td>\n",
       "      <td>False</td>\n",
       "      <td>False</td>\n",
       "      <td>False</td>\n",
       "      <td>False</td>\n",
       "      <td>Keine Parkmöglichkeit</td>\n",
       "      <td>öl</td>\n",
       "      <td>verbrauchsausweis</td>\n",
       "      <td>NaN</td>\n",
       "    </tr>\n",
       "    <tr>\n",
       "      <th>4</th>\n",
       "      <td>https://www.immowelt.de/expose/2zpe54x</td>\n",
       "      <td>Apartment</td>\n",
       "      <td>bl-baden-wuerttemberg</td>\n",
       "      <td>385000.0</td>\n",
       "      <td>NaN</td>\n",
       "      <td>4.0</td>\n",
       "      <td>Public publisher</td>\n",
       "      <td>Okay</td>\n",
       "      <td>Okay</td>\n",
       "      <td>Not given</td>\n",
       "      <td>...</td>\n",
       "      <td>False</td>\n",
       "      <td>False</td>\n",
       "      <td>False</td>\n",
       "      <td>False</td>\n",
       "      <td>False</td>\n",
       "      <td>False</td>\n",
       "      <td>Keine Parkmöglichkeit</td>\n",
       "      <td>other</td>\n",
       "      <td>NaN</td>\n",
       "      <td>NaN</td>\n",
       "    </tr>\n",
       "  </tbody>\n",
       "</table>\n",
       "<p>5 rows × 26 columns</p>\n",
       "</div>"
      ],
      "text/plain": [
       "                                      url   category                  state  \\\n",
       "0  https://www.immowelt.de/expose/28xsk53  Apartment  bl-baden-wuerttemberg   \n",
       "1  https://www.immowelt.de/expose/27egy5v  Apartment  bl-baden-wuerttemberg   \n",
       "2  https://www.immowelt.de/expose/27dc45u  Apartment  bl-baden-wuerttemberg   \n",
       "3  https://www.immowelt.de/expose/28b5m5a  Apartment  bl-baden-wuerttemberg   \n",
       "4  https://www.immowelt.de/expose/2zpe54x  Apartment  bl-baden-wuerttemberg   \n",
       "\n",
       "      price  living_space  rooms         publisher rating_location  \\\n",
       "0  320000.0         87.00    3.5  Public publisher             Gut   \n",
       "1  449500.0         79.00    2.5  Public publisher             Gut   \n",
       "2  465000.0         53.99    2.0  Public publisher             Gut   \n",
       "3  179000.0         58.35    2.0  Public publisher             Gut   \n",
       "4  385000.0           NaN    4.0  Public publisher            Okay   \n",
       "\n",
       "  rating_public_transport    house_category  ... is_garden  is_terrace  \\\n",
       "0                    Okay         Not given  ...     False       False   \n",
       "1                   Super         Not given  ...     False       False   \n",
       "2                     Gut  terrassenwohnung  ...     False        True   \n",
       "3                     Gut         Not given  ...     False       False   \n",
       "4                    Okay         Not given  ...     False       False   \n",
       "\n",
       "   is_wintergarden  is_bath_with_window  is_need_renovation  is_new_building  \\\n",
       "0            False                False               False            False   \n",
       "1            False                 True                True            False   \n",
       "2            False                False               False             True   \n",
       "3            False                False               False            False   \n",
       "4            False                False               False            False   \n",
       "\n",
       "           parking_space  energy_source  energy_certificate_type  \\\n",
       "0  Keine Parkmöglichkeit            gas        verbrauchsausweis   \n",
       "1  Keine Parkmöglichkeit            gas        verbrauchsausweis   \n",
       "2             tiefgarage            gas                      NaN   \n",
       "3  Keine Parkmöglichkeit             öl        verbrauchsausweis   \n",
       "4  Keine Parkmöglichkeit          other                      NaN   \n",
       "\n",
       "   energy_efficient_class  \n",
       "0                       h  \n",
       "1                     NaN  \n",
       "2                     NaN  \n",
       "3                     NaN  \n",
       "4                     NaN  \n",
       "\n",
       "[5 rows x 26 columns]"
      ]
     },
     "execution_count": 412,
     "metadata": {},
     "output_type": "execute_result"
    }
   ],
   "source": [
    "df.head()"
   ]
  },
  {
   "cell_type": "code",
   "execution_count": null,
   "metadata": {},
   "outputs": [],
   "source": []
  },
  {
   "cell_type": "code",
   "execution_count": 413,
   "metadata": {},
   "outputs": [],
   "source": [
    "# korrelation matrix"
   ]
  },
  {
   "cell_type": "code",
   "execution_count": 414,
   "metadata": {},
   "outputs": [],
   "source": [
    "# TODOS\n",
    "\n",
    "# --AFTER EDA\n",
    "# PUBLISHER => interpolate NAN, wenn signifikant für TARGET\n",
    "# RATING_LOCATION => interpolate NAN, wenn signifikant für TARGET\n",
    "# RATING_PUBLIC_TRANSPORT => interpolate NAN, wenn signifikant für TARGET\n",
    "# HOUSE_YEAR => NAN to 0 and convert to int, wenn signifikant für TARGET\n",
    "# ENERGY_CERTIFICATE_TYPE => interpolate NAN, wenn signifikant für TARGET\n",
    "# ENERGY_EFFICIENT_CLASS => interpolate NAN, wenn signifikant für TARGET\n",
    "\n",
    "# interpolate Livingspace! -> own model?\n"
   ]
  }
 ],
 "metadata": {
  "kernelspec": {
   "display_name": "Python 3.10.4 ('dt-22')",
   "language": "python",
   "name": "python3"
  },
  "language_info": {
   "codemirror_mode": {
    "name": "ipython",
    "version": 3
   },
   "file_extension": ".py",
   "mimetype": "text/x-python",
   "name": "python",
   "nbconvert_exporter": "python",
   "pygments_lexer": "ipython3",
   "version": "3.10.4"
  },
  "orig_nbformat": 4,
  "vscode": {
   "interpreter": {
    "hash": "2f2a90004446a3d28522bdb97caf000bd8ceeb10ef91e7481cd1ff500debcf1e"
   }
  }
 },
 "nbformat": 4,
 "nbformat_minor": 2
}
