{
 "cells": [
  {
   "attachments": {},
   "cell_type": "markdown",
   "metadata": {},
   "source": [
    "# EDA & Feature Engineering"
   ]
  },
  {
   "attachments": {},
   "cell_type": "markdown",
   "metadata": {},
   "source": [
    "## Imports"
   ]
  },
  {
   "cell_type": "code",
   "execution_count": null,
   "metadata": {},
   "outputs": [],
   "source": []
  },
  {
   "cell_type": "code",
   "execution_count": null,
   "metadata": {},
   "outputs": [],
   "source": [
    "# TODOS\n",
    "\n",
    "# --AFTER EDA\n",
    "# TITLE keywords mit features, keywords etc vergleichen und neue features herausarbeiten\n",
    "# PUBLISHER => interpolate NAN, wenn signifikant für TARGET\n",
    "# RATING_LOCATION => interpolate NAN, wenn signifikant für TARGET\n",
    "# RATING_PUBLIC_TRANSPORT => interpolate NAN, wenn signifikant für TARGET\n",
    "# HOUSE_YEAR => NAN to 0 and convert to int, wenn signifikant für TARGET\n",
    "# ENERGY_CERTIFICATE_TYPE => interpolate NAN, wenn signifikant für TARGET\n",
    "# ENERGY_EFFICIENT_CLASS => interpolate NAN, wenn signifikant für TARGET"
   ]
  }
 ],
 "metadata": {
  "kernelspec": {
   "display_name": "tf-env-ds-23",
   "language": "python",
   "name": "python3"
  },
  "language_info": {
   "codemirror_mode": {
    "name": "ipython",
    "version": 3
   },
   "file_extension": ".py",
   "mimetype": "text/x-python",
   "name": "python",
   "nbconvert_exporter": "python",
   "pygments_lexer": "ipython3",
   "version": "3.9.15 | packaged by conda-forge | (main, Nov 22 2022, 08:48:25) \n[Clang 14.0.6 ]"
  },
  "orig_nbformat": 4,
  "vscode": {
   "interpreter": {
    "hash": "a3253a6cf79e429c9826c29a7829299de4ce5c577966b4dbc86f69efa80fc7c0"
   }
  }
 },
 "nbformat": 4,
 "nbformat_minor": 2
}
